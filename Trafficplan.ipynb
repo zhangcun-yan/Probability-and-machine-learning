{
  "nbformat": 4,
  "nbformat_minor": 0,
  "metadata": {
    "colab": {
      "provenance": [],
      "authorship_tag": "ABX9TyPgL0ToNDRdT8KYDwzr02dn",
      "include_colab_link": true
    },
    "kernelspec": {
      "name": "python3",
      "display_name": "Python 3"
    },
    "language_info": {
      "name": "python"
    }
  },
  "cells": [
    {
      "cell_type": "markdown",
      "metadata": {
        "id": "view-in-github",
        "colab_type": "text"
      },
      "source": [
        "<a href=\"https://colab.research.google.com/github/zhangcun-yan/Probability-and-machine-learning/blob/main/Trafficplan.ipynb\" target=\"_parent\"><img src=\"https://colab.research.google.com/assets/colab-badge.svg\" alt=\"Open In Colab\"/></a>"
      ]
    },
    {
      "cell_type": "markdown",
      "source": [
        "Importing the required libraries"
      ],
      "metadata": {
        "id": "IO4arQojWzYZ"
      }
    },
    {
      "cell_type": "code",
      "source": [
        "import numpy as np\n",
        "import pandas as pd\n",
        "import io"
      ],
      "metadata": {
        "id": "4g31_62iXK7c"
      },
      "execution_count": null,
      "outputs": []
    },
    {
      "cell_type": "markdown",
      "source": [
        "Importing the data"
      ],
      "metadata": {
        "id": "qe3x9y1hXNt7"
      }
    },
    {
      "cell_type": "code",
      "source": [
        "Data = pd.read_csv('/OD_Full_w_CTs.csv')"
      ],
      "metadata": {
        "id": "iVrMIKFWUj1A"
      },
      "execution_count": 15,
      "outputs": []
    },
    {
      "cell_type": "markdown",
      "source": [
        "Extract the trip number based on the census！ Here we select the variable m_domsdr （2011 census subdivision (municipality)） as the connect variable."
      ],
      "metadata": {
        "id": "0WTZ5WJ_XW47"
      }
    },
    {
      "cell_type": "code",
      "source": [
        "Census_id = pd.unique(Data['m_domsdr'])\n",
        "num_census = len(Census_id)\n"
      ],
      "metadata": {
        "id": "BNxM0f6jXqxQ"
      },
      "execution_count": 24,
      "outputs": []
    }
  ]
}